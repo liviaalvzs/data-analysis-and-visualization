{
 "cells": [
  {
   "attachments": {},
   "cell_type": "markdown",
   "metadata": {},
   "source": [
    "## 🧠 **Análise e Visualização de Dados Sobre Transtornos Mentais no Brasil Entre 1990 e 2017**"
   ]
  },
  {
   "attachments": {},
   "cell_type": "markdown",
   "metadata": {},
   "source": [
    "#### Sobre Dataset\n",
    "- Fonte do Dataset: [Kaggle](https://www.kaggle.com/datasets/thedevastator/uncover-global-trends-in-mental-health-disorder?resource=download)\n",
    "- Sobre as variáveis do Dataset:\n",
    "    - Entity: Identificador exclusivo para cada país ou região incluída no conjunto de dados. (String)\n",
    "    - Code: Código único associado a uma Entidade/País ou região incluída no conjunto de dados. (String)\n",
    "    - Year: Ano em que foram recolhidos os dados dessa Entidade/País em particular. (Integer)\n",
    "    - Schizophrenia (%): Porcentagem de pessoas com esquizofrenia naquele país/região durante aquele ano. (Float)\n",
    "    - Bipolar disorder (%): Porcentagem de pessoas com transtorno bipolar naquele país/região durante aquele ano. (Float)\n",
    "    - Eating disorders (%): Porcentagem de pessoas com transtornos alimentares naquele país/região durante esse ano. (Float)\n",
    "    - Anxiety disorders (%):  Percentagem de pessoas com transtorno de ansiedade nesse país/região durante esse ano. (Float)\n",
    "    - Drug use disorders (%): Porcentagem de pessoas com transtornos por uso de drogas naquele país/região durante aquele ano. (Float)\n",
    "    - Depression (%): Porcentagem de pessoas com depressão naquele país/região durante aquele ano. (Float)\n",
    "    - Alcohol use disorders (%): Porcentagem de pessoas com transtornos por uso de álcool naquele país/região durante esse ano. (Float)"
   ]
  },
  {
   "attachments": {},
   "cell_type": "markdown",
   "metadata": {},
   "source": []
  }
 ],
 "metadata": {
  "language_info": {
   "name": "python"
  },
  "orig_nbformat": 4
 },
 "nbformat": 4,
 "nbformat_minor": 2
}
